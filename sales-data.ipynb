{
 "cells": [
  {
   "cell_type": "markdown",
   "id": "19a877e0",
   "metadata": {},
   "source": [
    "### Easy"
   ]
  },
  {
   "cell_type": "markdown",
   "id": "d348d762",
   "metadata": {},
   "source": [
    "1. How many unique customers are in the dataset?"
   ]
  },
  {
   "cell_type": "code",
   "execution_count": 92,
   "id": "08c09d98",
   "metadata": {},
   "outputs": [
    {
     "name": "stdout",
     "output_type": "stream",
     "text": [
      "Number of unique customers: 5191\n"
     ]
    }
   ],
   "source": [
    "import pandas as pd\n",
    "\n",
    "df = pd.read_csv('fct_invoice.csv')\n",
    "\n",
    "unique_customers = df['customer_id'].nunique()\n",
    "print(\"Number of unique customers:\", unique_customers)"
   ]
  },
  {
   "cell_type": "markdown",
   "id": "1801fec5",
   "metadata": {},
   "source": [
    "2. What are the different categories of products available? How many unique categories are there?"
   ]
  },
  {
   "cell_type": "code",
   "execution_count": 95,
   "id": "b488cf17",
   "metadata": {
    "scrolled": true
   },
   "outputs": [
    {
     "name": "stdout",
     "output_type": "stream",
     "text": [
      "Number of different categories: 8\n",
      "Different categories of products:\n",
      "Clothing\n",
      "Shoes\n",
      "Books\n",
      "Cosmetics\n",
      "Food & Beverage\n",
      "Toys\n",
      "Technology\n",
      "Souvenir\n"
     ]
    }
   ],
   "source": [
    "category_counts = df['category'].value_counts()\n",
    "\n",
    "num_categories = len(category_counts)\n",
    "print(\"Number of different categories:\", num_categories)\n",
    "\n",
    "unique_categories = df['category'].unique()\n",
    "\n",
    "print(\"Different categories of products:\")\n",
    "for category in unique_categories:\n",
    "    print(category)"
   ]
  },
  {
   "cell_type": "markdown",
   "id": "b99fc9b3",
   "metadata": {},
   "source": [
    "3. Which payment method is the most popular? How many times was it used?"
   ]
  },
  {
   "cell_type": "code",
   "execution_count": 106,
   "id": "7d77a575",
   "metadata": {},
   "outputs": [
    {
     "name": "stdout",
     "output_type": "stream",
     "text": [
      "Most popular payment method: ['Cash']\n",
      "Times used: [44447]\n"
     ]
    }
   ],
   "source": [
    "payment = df['payment_method'].value_counts().head(1)\n",
    "\n",
    "print(\"Most popular payment method:\", list(payment.index))\n",
    "print(\"Times used:\", payment.values)"
   ]
  },
  {
   "cell_type": "markdown",
   "id": "55ed1a60",
   "metadata": {},
   "source": [
    "### Medium"
   ]
  },
  {
   "cell_type": "markdown",
   "id": "d270beb2",
   "metadata": {},
   "source": [
    "1. What are the three most popular categories, by total sales?"
   ]
  },
  {
   "cell_type": "code",
   "execution_count": 40,
   "id": "8595416f",
   "metadata": {},
   "outputs": [
    {
     "name": "stdout",
     "output_type": "stream",
     "text": [
      "Three most popular categories by sales: ['Clothing', 'Shoes', 'Technology']\n"
     ]
    }
   ],
   "source": [
    "import pandas as pd\n",
    "\n",
    "\n",
    "df = pd.read_csv(\"fct_invoice.csv\")\n",
    "\n",
    "# Group the data by \"category\" and calculate the sum of sales for each category\n",
    "category_sales = df.groupby(\"category\")[\"price\"].sum()\n",
    "\n",
    "# Sort the categories based on their total sales in descending order\n",
    "sorted_categories = category_sales.sort_values(ascending=False)\n",
    "\n",
    "# Get the top 3 categories with the most total sales\n",
    "top_3_categories = sorted_categories.head(3)\n",
    "\n",
    "print(\"Three most popular categories by sales:\", list(top_3_categories.index))"
   ]
  },
  {
   "cell_type": "markdown",
   "id": "360ff20b",
   "metadata": {},
   "source": [
    "2. What are the total sales attributed to customers over the age of 45?"
   ]
  },
  {
   "cell_type": "code",
   "execution_count": 114,
   "id": "75301a3a",
   "metadata": {},
   "outputs": [
    {
     "name": "stdout",
     "output_type": "stream",
     "text": [
      "Total sales attributed to customers over the age of 45: 82039768.14999601\n"
     ]
    }
   ],
   "source": [
    "import pandas as pd\n",
    "\n",
    "csv = pd.read_csv(\"fct_invoice.csv\")\n",
    "json = pd.read_json(\"dim_customer.json\")\n",
    "\n",
    "json.rename(columns={\"id\":\"customer_id\"})\n",
    "merged = pd.merge(csv,json,left_on=\"customer_id\",right_on=\"id\")\n",
    "merged['total'] = merged['quantity'] * merged['price']\n",
    "age_above_45 = merged[merged['age'] > 45]\n",
    "age_above_45['total']\n",
    "\n",
    "print(\"Total sales attributed to customers over the age of 45:\", sum(age_above_45['total']))"
   ]
  },
  {
   "cell_type": "markdown",
   "id": "0a52a0dc",
   "metadata": {},
   "source": [
    "3. How is the data distributed across different invoice dates? Are there any seasonal trends or patterns? (Use a graph for this.)"
   ]
  },
  {
   "cell_type": "code",
   "execution_count": 122,
   "id": "9b37b888",
   "metadata": {
    "scrolled": false
   },
   "outputs": [
    {
     "data": {
      "image/png": "[encoded data removed]",
      "text/plain": [
       "<Figure size 500x300 with 1 Axes>"
      ]
     },
     "metadata": {},
     "output_type": "display_data"
    }
   ],
   "source": [
    "import numpy as np\n",
    "\n",
    "df['invoice_date'] = pd.DatetimeIndex(df['invoice_date'], dayfirst = True)\n",
    "df['month'] = pd.DatetimeIndex(df['invoice_date']).month\n",
    "\n",
    "conditions = [\n",
    "    (df['month'].isin([12, 1, 2])),\n",
    "    (df['month'].isin([3, 4, 5])),\n",
    "    (df['month'].isin([6, 7, 8])),\n",
    "    (df['month'].isin([9, 10, 11]))\n",
    "]\n",
    "\n",
    "seasons = ['Winter', 'Spring', 'Summer', 'Autumn']\n",
    "\n",
    "df['season'] = np.select(conditions, seasons)\n",
    "\n",
    "sales = list(df['season'].value_counts())\n",
    "\n",
    "plt.figure(figsize=(5,3))\n",
    "plt.bar(seasons,sales)\n",
    "\n",
    "plt.xlabel('Seasons')\n",
    "plt.ylabel('Sales')\n",
    "plt.title('Sales Seasonal Trends or Patterns')\n",
    "\n",
    "plt.show()"
   ]
  },
  {
   "cell_type": "markdown",
   "id": "d2b07c9f",
   "metadata": {},
   "source": [
    "Most sales are within the winter season, most likely because of Christmas."
   ]
  },
  {
   "cell_type": "markdown",
   "id": "1679e635",
   "metadata": {},
   "source": [
    "## Hard "
   ]
  },
  {
   "cell_type": "markdown",
   "id": "db5fa6dd",
   "metadata": {},
   "source": [
    "1. Create a pivot table showing the breakdown of sales across these dimensions, in this order: category, decade age range (e.g., 10-19, 20-29, and so forth)."
   ]
  },
  {
   "cell_type": "code",
   "execution_count": 74,
   "id": "50b83d2a",
   "metadata": {},
   "outputs": [
    {
     "data": {
      "text/html": [
       "<div>\n",
       "<style scoped>\n",
       "    .dataframe tbody tr th:only-of-type {\n",
       "        vertical-align: middle;\n",
       "    }\n",
       "\n",
       "    .dataframe tbody tr th {\n",
       "        vertical-align: top;\n",
       "    }\n",
       "\n",
       "    .dataframe thead th {\n",
       "        text-align: right;\n",
       "    }\n",
       "</style>\n",
       "<table border=\"1\" class=\"dataframe\">\n",
       "  <thead>\n",
       "    <tr style=\"text-align: right;\">\n",
       "      <th>age</th>\n",
       "      <th>[10, 20)</th>\n",
       "      <th>[20, 30)</th>\n",
       "      <th>[30, 40)</th>\n",
       "      <th>[40, 50)</th>\n",
       "      <th>[50, 60)</th>\n",
       "      <th>[60, 70)</th>\n",
       "      <th>[70, 80)</th>\n",
       "      <th>[80, 90)</th>\n",
       "      <th>[90, 100)</th>\n",
       "    </tr>\n",
       "    <tr>\n",
       "      <th>category</th>\n",
       "      <th></th>\n",
       "      <th></th>\n",
       "      <th></th>\n",
       "      <th></th>\n",
       "      <th></th>\n",
       "      <th></th>\n",
       "      <th></th>\n",
       "      <th></th>\n",
       "      <th></th>\n",
       "    </tr>\n",
       "  </thead>\n",
       "  <tbody>\n",
       "    <tr>\n",
       "      <th>Books</th>\n",
       "      <td>229</td>\n",
       "      <td>1427</td>\n",
       "      <td>1518</td>\n",
       "      <td>1542</td>\n",
       "      <td>1364</td>\n",
       "      <td>1420</td>\n",
       "      <td>1019</td>\n",
       "      <td>500</td>\n",
       "      <td>0</td>\n",
       "    </tr>\n",
       "    <tr>\n",
       "      <th>Clothing</th>\n",
       "      <td>1727</td>\n",
       "      <td>9392</td>\n",
       "      <td>10247</td>\n",
       "      <td>10220</td>\n",
       "      <td>9343</td>\n",
       "      <td>9700</td>\n",
       "      <td>7055</td>\n",
       "      <td>4095</td>\n",
       "      <td>0</td>\n",
       "    </tr>\n",
       "    <tr>\n",
       "      <th>Cosmetics</th>\n",
       "      <td>730</td>\n",
       "      <td>4060</td>\n",
       "      <td>4871</td>\n",
       "      <td>4460</td>\n",
       "      <td>3958</td>\n",
       "      <td>4344</td>\n",
       "      <td>2807</td>\n",
       "      <td>1752</td>\n",
       "      <td>0</td>\n",
       "    </tr>\n",
       "    <tr>\n",
       "      <th>Food &amp; Beverage</th>\n",
       "      <td>697</td>\n",
       "      <td>3906</td>\n",
       "      <td>4540</td>\n",
       "      <td>4677</td>\n",
       "      <td>3824</td>\n",
       "      <td>4243</td>\n",
       "      <td>2862</td>\n",
       "      <td>1637</td>\n",
       "      <td>0</td>\n",
       "    </tr>\n",
       "    <tr>\n",
       "      <th>Shoes</th>\n",
       "      <td>457</td>\n",
       "      <td>2716</td>\n",
       "      <td>3186</td>\n",
       "      <td>3148</td>\n",
       "      <td>2652</td>\n",
       "      <td>2696</td>\n",
       "      <td>2017</td>\n",
       "      <td>1180</td>\n",
       "      <td>0</td>\n",
       "    </tr>\n",
       "    <tr>\n",
       "      <th>Souvenir</th>\n",
       "      <td>281</td>\n",
       "      <td>1304</td>\n",
       "      <td>1496</td>\n",
       "      <td>1514</td>\n",
       "      <td>1286</td>\n",
       "      <td>1307</td>\n",
       "      <td>903</td>\n",
       "      <td>558</td>\n",
       "      <td>0</td>\n",
       "    </tr>\n",
       "    <tr>\n",
       "      <th>Technology</th>\n",
       "      <td>274</td>\n",
       "      <td>1359</td>\n",
       "      <td>1590</td>\n",
       "      <td>1553</td>\n",
       "      <td>1162</td>\n",
       "      <td>1457</td>\n",
       "      <td>931</td>\n",
       "      <td>522</td>\n",
       "      <td>0</td>\n",
       "    </tr>\n",
       "    <tr>\n",
       "      <th>Toys</th>\n",
       "      <td>480</td>\n",
       "      <td>2859</td>\n",
       "      <td>3217</td>\n",
       "      <td>2983</td>\n",
       "      <td>2626</td>\n",
       "      <td>2797</td>\n",
       "      <td>2078</td>\n",
       "      <td>1201</td>\n",
       "      <td>0</td>\n",
       "    </tr>\n",
       "  </tbody>\n",
       "</table>\n",
       "</div>"
      ],
      "text/plain": [
       "age              [10, 20)  [20, 30)  [30, 40)  [40, 50)  [50, 60)  [60, 70)  \\\n",
       "category                                                                      \n",
       "Books                 229      1427      1518      1542      1364      1420   \n",
       "Clothing             1727      9392     10247     10220      9343      9700   \n",
       "Cosmetics             730      4060      4871      4460      3958      4344   \n",
       "Food & Beverage       697      3906      4540      4677      3824      4243   \n",
       "Shoes                 457      2716      3186      3148      2652      2696   \n",
       "Souvenir              281      1304      1496      1514      1286      1307   \n",
       "Technology            274      1359      1590      1553      1162      1457   \n",
       "Toys                  480      2859      3217      2983      2626      2797   \n",
       "\n",
       "age              [70, 80)  [80, 90)  [90, 100)  \n",
       "category                                        \n",
       "Books                1019       500          0  \n",
       "Clothing             7055      4095          0  \n",
       "Cosmetics            2807      1752          0  \n",
       "Food & Beverage      2862      1637          0  \n",
       "Shoes                2017      1180          0  \n",
       "Souvenir              903       558          0  \n",
       "Technology            931       522          0  \n",
       "Toys                 2078      1201          0  "
      ]
     },
     "execution_count": 74,
     "metadata": {},
     "output_type": "execute_result"
    }
   ],
   "source": [
    "decades = pd.cut(merged['age'],bins=range(10, 101, 10),right=False)\n",
    "merged.pivot_table(index=\"category\",columns=decades,values=\"quantity\",aggfunc=\"sum\")"
   ]
  }
 ],
 "metadata": {
  "kernelspec": {
   "display_name": "Python 3 (ipykernel)",
   "language": "python",
   "name": "python3"
  },
  "language_info": {
   "codemirror_mode": {
    "name": "ipython",
    "version": 3
   },
   "file_extension": ".py",
   "mimetype": "text/x-python",
   "name": "python",
   "nbconvert_exporter": "python",
   "pygments_lexer": "ipython3",
   "version": "3.10.9"
  }
 },
 "nbformat": 4,
 "nbformat_minor": 5
}
